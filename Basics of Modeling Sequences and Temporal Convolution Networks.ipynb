{
 "cells": [
  {
   "cell_type": "markdown",
   "metadata": {
    "id": "zXZy6DyLjl0S"
   },
   "source": [
    "Basics of Modeling Sequences and Temporal Convolution Networks\n",
    "\n"
   ]
  },
  {
   "cell_type": "markdown",
   "metadata": {
    "id": "YysPVY6Ik2fA"
   },
   "source": [
    "**Problem 1: Kalman Filter**\n",
    "\n",
    "Apply the Kalman Filter with the given parameters on the provided data.\n"
   ]
  },
  {
   "cell_type": "code",
   "execution_count": 2,
   "metadata": {
    "colab": {
     "base_uri": "https://localhost:8080/",
     "height": 170
    },
    "executionInfo": {
     "elapsed": 7724,
     "status": "ok",
     "timestamp": 1603681264611,
     "user": {
      "displayName": "VΓΛ:D Chiang",
      "photoUrl": "https://lh3.googleusercontent.com/a-/AOh14Gh6NMkbCLmxYaYTlBGeO6OMn-ehGPnZwNoz3tq7=s64",
      "userId": "08556306977111819398"
     },
     "user_tz": 240
    },
    "id": "9HrJJcnTitXl",
    "outputId": "67faf227-5255-4a97-bfdf-9a873f5ea6f9"
   },
   "outputs": [
    {
     "name": "stdout",
     "output_type": "stream",
     "text": [
      "Collecting bunch\n",
      "  Downloading https://files.pythonhosted.org/packages/ef/bf/a4cf1779a4ffb4f610903fa08e15d1f4a8a2f4e3353a02afbe097c5bf4a8/bunch-1.0.1.tar.gz\n",
      "Building wheels for collected packages: bunch\n",
      "  Building wheel for bunch (setup.py) ... \u001b[?25l\u001b[?25hdone\n",
      "  Created wheel for bunch: filename=bunch-1.0.1-cp36-none-any.whl size=7075 sha256=7f2d79e80bb2f729a0ba6077e36801b701ca7ce7b21da48a4a2b3d61ed0313ee\n",
      "  Stored in directory: /root/.cache/pip/wheels/56/0f/19/fbbf81e5764e6d8b74501c4357a88c14c94466ec777c03734c\n",
      "Successfully built bunch\n",
      "Installing collected packages: bunch\n",
      "Successfully installed bunch-1.0.1\n"
     ]
    }
   ],
   "source": [
    "!pip install bunch\n",
    "#Import\n",
    "import sys\n",
    "import torch\n",
    "import numpy as np\n",
    "from tqdm import tqdm\n",
    "import torch.nn as nn\n",
    "import scipy.io as sio\n",
    "from bunch import Bunch\n",
    "import torch.optim as optim\n",
    "import matplotlib.pyplot as plt\n",
    "import torch.nn.functional as F\n",
    "from torch.autograd import Variable\n",
    "from torch.nn.utils import weight_norm\n",
    "from os.path import dirname, join as pjoin\n",
    "from sklearn.metrics import roc_auc_score, precision_score, recall_score, accuracy_score"
   ]
  },
  {
   "cell_type": "code",
   "execution_count": 8,
   "metadata": {
    "executionInfo": {
     "elapsed": 413,
     "status": "ok",
     "timestamp": 1603681349747,
     "user": {
      "displayName": "VΓΛ:D Chiang",
      "photoUrl": "https://lh3.googleusercontent.com/a-/AOh14Gh6NMkbCLmxYaYTlBGeO6OMn-ehGPnZwNoz3tq7=s64",
      "userId": "08556306977111819398"
     },
     "user_tz": 240
    },
    "id": "fZuC1Nf2jhdw"
   },
   "outputs": [],
   "source": [
    "class KalmanFilter(object):\n",
    "    def __init__(self, F = None, B = None, H = None, Q = None, R = None, P = None, x0 = None):\n",
    "        \"\"\"\n",
    "        Inputs:\n",
    "        -------\n",
    "        F: the state-transition model;\n",
    "        H: the observation model;\n",
    "        Q: the covariance of the state-transition noise;\n",
    "        R: the variance of the observation noise;\n",
    "        B: the control-input model.\n",
    "\n",
    "        Output:\n",
    "        -------\n",
    "        predict: give the prediction\n",
    "        update: update the given measured value\n",
    "\n",
    "        \"\"\"\n",
    "        if(F is None or H is None):\n",
    "            raise ValueError(\"Set proper system dynamics.\")\n",
    "\n",
    "        self.n = F.shape[1]\n",
    "        self.m = H.shape[1]\n",
    "\n",
    "        self.F = F\n",
    "        self.H = H\n",
    "        self.B = 0 if B is None else B\n",
    "        self.Q = np.eye(self.n) if Q is None else Q\n",
    "        self.R = np.eye(self.n) if R is None else R\n",
    "        self.P = np.eye(self.n) if P is None else P\n",
    "        self.x = np.zeros((self.n, 1)) if x0 is None else x0\n",
    "\n",
    "    def predict(self, u = 0):\n",
    "        self.x = np.dot(self.F, self.x) + np.dot(self.B, u)\n",
    "        self.P = np.dot(np.dot(self.F, self.P), self.F.T) + self.Q\n",
    "        return self.x\n",
    "\n",
    "    def update(self, z):\n",
    "        y = z - np.dot(self.H, self.x)\n",
    "        S = self.R + np.dot(self.H, np.dot(self.P, self.H.T))\n",
    "        K = np.dot(np.dot(self.P, self.H.T), np.linalg.inv(S))\n",
    "        self.x = self.x + np.dot(K, y)\n",
    "        I = np.eye(self.n)\n",
    "        self.P = np.dot(np.dot(I - np.dot(K, self.H), self.P), \n",
    "        \t(I - np.dot(K, self.H)).T) + np.dot(np.dot(K, self.R), K.T)\n"
   ]
  },
  {
   "cell_type": "markdown",
   "metadata": {
    "id": "Wmej3He5uSSo"
   },
   "source": [
    "**1(a)**\n",
    "\n",
    "Try to implement the Kalman Filter on a sample dataset using parameters given below:\n",
    "\n",
    "*   dt = 1.0/60\n",
    "*   State transition matrix = \n",
    "$$\\begin{bmatrix}\n",
    "1 & dt & 0\\\\\n",
    "0 & 1 & dt\\\\\n",
    "0 & 0 & 1\n",
    "\\end{bmatrix}$$\n",
    "*   Observation matrix = $$\\begin{bmatrix} 1&0&0.5 \\end{bmatrix}$$\n",
    "*   State-transition covariance = \n",
    "$$\\begin{bmatrix}\n",
    "1 & 0.5 & 0\\\\\n",
    "0 & 0.84 & 0.23\\\\\n",
    "0.1 & 0.6 & 0.2\n",
    "\\end{bmatrix}$$\n",
    "*   Observation variance = $0.1$\n",
    "\n",
    "\n",
    "\n",
    "\n",
    "\n",
    "\n"
   ]
  },
  {
   "cell_type": "code",
   "execution_count": 9,
   "metadata": {
    "executionInfo": {
     "elapsed": 415,
     "status": "ok",
     "timestamp": 1603681352488,
     "user": {
      "displayName": "VΓΛ:D Chiang",
      "photoUrl": "https://lh3.googleusercontent.com/a-/AOh14Gh6NMkbCLmxYaYTlBGeO6OMn-ehGPnZwNoz3tq7=s64",
      "userId": "08556306977111819398"
     },
     "user_tz": 240
    },
    "id": "TkZo_BuBmKRj"
   },
   "outputs": [],
   "source": [
    "# Your code:\n",
    "dt = 1.0/60\n",
    "F = np.array([[1,dt,0],[0,1,dt],[0,0,1]])\n",
    "H = np.array([[1,0,0.5]]).reshape(1,3)\n",
    "Q = np.array([[1,0.5,0],[0,0.84,0.23],[0.1,0.6,0.2]])\n",
    "R = np.array([0.1]).reshape(1,1)"
   ]
  },
  {
   "cell_type": "code",
   "execution_count": 10,
   "metadata": {
    "executionInfo": {
     "elapsed": 402,
     "status": "ok",
     "timestamp": 1603681353697,
     "user": {
      "displayName": "VΓΛ:D Chiang",
      "photoUrl": "https://lh3.googleusercontent.com/a-/AOh14Gh6NMkbCLmxYaYTlBGeO6OMn-ehGPnZwNoz3tq7=s64",
      "userId": "08556306977111819398"
     },
     "user_tz": 240
    },
    "id": "uM_O3Vjc21b8"
   },
   "outputs": [],
   "source": [
    "Measured = np.array([-79.0110759 ,  -74.30411423,  -71.79140345,  -70.15579527, \n",
    "                     -61.65533322,  -59.51037214,  -57.44834303,  -55.72164108,\n",
    "                     -51.02031032,  -51.14506435])\n",
    "kf = KalmanFilter(F = F, H = H, Q = Q, R = R)\n",
    "predictions = []"
   ]
  },
  {
   "cell_type": "markdown",
   "metadata": {
    "id": "2NOQ3-eyDgfJ"
   },
   "source": [
    "Apply the Kalman Filter to the data"
   ]
  },
  {
   "cell_type": "code",
   "execution_count": 11,
   "metadata": {
    "executionInfo": {
     "elapsed": 954,
     "status": "ok",
     "timestamp": 1603681356424,
     "user": {
      "displayName": "VΓΛ:D Chiang",
      "photoUrl": "https://lh3.googleusercontent.com/a-/AOh14Gh6NMkbCLmxYaYTlBGeO6OMn-ehGPnZwNoz3tq7=s64",
      "userId": "08556306977111819398"
     },
     "user_tz": 240
    },
    "id": "A2wvLUJQoLJZ"
   },
   "outputs": [],
   "source": [
    "# Your code: \n",
    "for z in Measured:\n",
    "\tpredictions.append(np.dot(H,  kf.predict())[0])\n",
    "\tkf.update(z)"
   ]
  },
  {
   "cell_type": "code",
   "execution_count": 12,
   "metadata": {
    "colab": {
     "base_uri": "https://localhost:8080/",
     "height": 265
    },
    "executionInfo": {
     "elapsed": 940,
     "status": "ok",
     "timestamp": 1603681357182,
     "user": {
      "displayName": "VΓΛ:D Chiang",
      "photoUrl": "https://lh3.googleusercontent.com/a-/AOh14Gh6NMkbCLmxYaYTlBGeO6OMn-ehGPnZwNoz3tq7=s64",
      "userId": "08556306977111819398"
     },
     "user_tz": 240
    },
    "id": "FgmRWtDjsUNw",
    "outputId": "3e9af69e-8035-4451-f444-8dc5b213f8c4"
   },
   "outputs": [
    {
     "data": {
      "image/png": "[encoded data removed]",
      "text/plain": [
       "<Figure size 432x288 with 1 Axes>"
      ]
     },
     "metadata": {
      "needs_background": "light",
      "tags": []
     },
     "output_type": "display_data"
    }
   ],
   "source": [
    "plt.plot(range(len(Measured)), Measured, label = 'Measurements')\n",
    "plt.plot(range(len(predictions)), np.array(predictions), label = 'Kalman Filter Prediction')\n",
    "plt.legend()\n",
    "plt.show()"
   ]
  },
  {
   "cell_type": "markdown",
   "metadata": {
    "id": "Ue7kZfdAmsFE"
   },
   "source": [
    "**1(b)**\n",
    "\n",
    "Assume there is no process error, update your filter parameters and regenerate the plot. Compare to what you get from **1(a)**. What is different? Why?  "
   ]
  },
  {
   "cell_type": "code",
   "execution_count": 13,
   "metadata": {
    "executionInfo": {
     "elapsed": 975,
     "status": "ok",
     "timestamp": 1603681359707,
     "user": {
      "displayName": "VΓΛ:D Chiang",
      "photoUrl": "https://lh3.googleusercontent.com/a-/AOh14Gh6NMkbCLmxYaYTlBGeO6OMn-ehGPnZwNoz3tq7=s64",
      "userId": "08556306977111819398"
     },
     "user_tz": 240
    },
    "id": "j6p2thKLlt-H"
   },
   "outputs": [],
   "source": [
    "# Your code:\n",
    "R = np.array([1]).reshape(1,1)\n",
    "kf = KalmanFilter(F = F, H = H, Q = Q, R = R)\n",
    "predictions = []\n",
    "for z in Measured:\n",
    "\tpredictions.append(np.dot(H,  kf.predict())[0])\n",
    "\tkf.update(z)"
   ]
  },
  {
   "cell_type": "code",
   "execution_count": 14,
   "metadata": {
    "colab": {
     "base_uri": "https://localhost:8080/",
     "height": 265
    },
    "executionInfo": {
     "elapsed": 712,
     "status": "ok",
     "timestamp": 1603681360403,
     "user": {
      "displayName": "VΓΛ:D Chiang",
      "photoUrl": "https://lh3.googleusercontent.com/a-/AOh14Gh6NMkbCLmxYaYTlBGeO6OMn-ehGPnZwNoz3tq7=s64",
      "userId": "08556306977111819398"
     },
     "user_tz": 240
    },
    "id": "C54duOrNneXY",
    "outputId": "a70872a1-394e-49b2-8fb2-b89c0a2de8b5"
   },
   "outputs": [
    {
     "data": {
      "image/png": "[encoded data removed]",
      "text/plain": [
       "<Figure size 432x288 with 1 Axes>"
      ]
     },
     "metadata": {
      "needs_background": "light",
      "tags": []
     },
     "output_type": "display_data"
    }
   ],
   "source": [
    "plt.plot(range(len(Measured)), Measured, label = 'Measurements')\n",
    "plt.plot(range(len(predictions)), np.array(predictions), label = 'Kalman Filter Prediction')\n",
    "plt.legend()\n",
    "plt.show()"
   ]
  },
  {
   "cell_type": "markdown",
   "metadata": {
    "id": "1rki9xen3k6F"
   },
   "source": [
    "**The model in 1(a) started to follow the trend of measurements immediately after the first prediction, which makes the model a highly accurate one. After the observational variance is increased ten times in the model in 1(b), the model only started to follow the trend of the measurements at the fourth prediction, which makes it less predictive. I think the reason for this change is because the increased observational variance makes the model consider a larger proportion of changes in measurement as variance, thus making the model more conversative about adjusting itself, after which it will be more likely to underfit and less likely to overfit.**"
   ]
  },
  {
   "cell_type": "markdown",
   "metadata": {
    "id": "7BATDuHPsLlj"
   },
   "source": [
    "**Problem 2**\n",
    "\n",
    "In this question, our dataset contains some data sequences: a pair of input sequences and an output. The first sequence within the pair is composed of numbers randomly sampled from the range [0, 1]. The second input sequence within the input sequence pair is composed of only integers: 0 or 1. This sequence must contain only 2 instances of the integer 1; the rest of the integers are all 0s. The output is the sum of the two values from the first input sequence corresponding to 1s in the second input sequence. \n",
    "\n",
    "For example, one input sequence pair can be [[0, 0.1, 0.2, 0.3, 0.4, 0.5], [0, 0, 0, 1, 1, 0]]. In this case, the final output value should be 0.3 + 0.4 = 0.7. In this example, the length of the data sequence is 6.\n",
    "\n",
    "For the detail of TCN, see the GitHub repo [here](https://github.com/locuslab/TCN/tree/master/TCN/adding_problem)."
   ]
  },
  {
   "cell_type": "markdown",
   "metadata": {
    "id": "5UJBnv2qDUPV"
   },
   "source": [
    "Generate data for training and testing."
   ]
  },
  {
   "cell_type": "code",
   "execution_count": 20,
   "metadata": {
    "executionInfo": {
     "elapsed": 365,
     "status": "ok",
     "timestamp": 1603682212774,
     "user": {
      "displayName": "VΓΛ:D Chiang",
      "photoUrl": "https://lh3.googleusercontent.com/a-/AOh14Gh6NMkbCLmxYaYTlBGeO6OMn-ehGPnZwNoz3tq7=s64",
      "userId": "08556306977111819398"
     },
     "user_tz": 240
    },
    "id": "9_zBwJOusWnZ"
   },
   "outputs": [],
   "source": [
    "def data_generator(N, seq_length):\n",
    "    \"\"\"\n",
    "    Args:\n",
    "        seq_length: Length of the adding problem data\n",
    "        N: # of data in the set\n",
    "    \"\"\"\n",
    "    X_num = torch.rand([N, 1, seq_length])\n",
    "    X_mask = torch.zeros([N, 1, seq_length])\n",
    "    Y = torch.zeros([N, 1])\n",
    "    for i in tqdm(range(N)):\n",
    "        positions = np.random.choice(seq_length, size=2, replace=False)\n",
    "        X_mask[i, 0, positions[0]] = 1\n",
    "        X_mask[i, 0, positions[1]] = 1\n",
    "        Y[i,0] = X_num[i, 0, positions[0]] + X_num[i, 0, positions[1]]\n",
    "    X = torch.cat((X_num, X_mask), dim=1)\n",
    "    return Variable(X), Variable(Y)"
   ]
  },
  {
   "cell_type": "markdown",
   "metadata": {
    "id": "oqB9P02UDYE9"
   },
   "source": [
    "Initialize training parameters."
   ]
  },
  {
   "cell_type": "code",
   "execution_count": 21,
   "metadata": {
    "executionInfo": {
     "elapsed": 368,
     "status": "ok",
     "timestamp": 1603682214416,
     "user": {
      "displayName": "VΓΛ:D Chiang",
      "photoUrl": "https://lh3.googleusercontent.com/a-/AOh14Gh6NMkbCLmxYaYTlBGeO6OMn-ehGPnZwNoz3tq7=s64",
      "userId": "08556306977111819398"
     },
     "user_tz": 240
    },
    "id": "2CgQm0n87_AX"
   },
   "outputs": [],
   "source": [
    "args = Bunch()\n",
    "args.batch_size = 32\n",
    "args.cuda = True\n",
    "args.dropout = False\n",
    "args.clip = -1\n",
    "args.epochs = 30\n",
    "args.ksize = 7\n",
    "args.levels = 8\n",
    "args.seq_len = 100\n",
    "args.log_interval = 100\n",
    "args.lr = 4e-4 ##1e-2\n",
    "args.optim = 'Adam'\n",
    "args.nhid = 30\n",
    "args.seed = 112\n"
   ]
  },
  {
   "cell_type": "markdown",
   "metadata": {
    "id": "7QAE0KpoEHOH"
   },
   "source": [
    "Define several classes for training."
   ]
  },
  {
   "cell_type": "code",
   "execution_count": 22,
   "metadata": {
    "executionInfo": {
     "elapsed": 717,
     "status": "ok",
     "timestamp": 1603682216546,
     "user": {
      "displayName": "VΓΛ:D Chiang",
      "photoUrl": "https://lh3.googleusercontent.com/a-/AOh14Gh6NMkbCLmxYaYTlBGeO6OMn-ehGPnZwNoz3tq7=s64",
      "userId": "08556306977111819398"
     },
     "user_tz": 240
    },
    "id": "Lcxbz3hs_o-S"
   },
   "outputs": [],
   "source": [
    "class TCN(nn.Module):\n",
    "    def __init__(self, input_size, output_size, num_channels, kernel_size, dropout):\n",
    "        super(TCN, self).__init__()\n",
    "        self.tcn = TemporalConvNet(input_size, num_channels, kernel_size=kernel_size, dropout=dropout)\n",
    "        self.linear = nn.Linear(num_channels[-1], output_size)\n",
    "        self.init_weights()\n",
    "\n",
    "    def init_weights(self):\n",
    "        self.linear.weight.data.normal_(0, 0.01)\n",
    "\n",
    "    def forward(self, x):\n",
    "        y1 = self.tcn(x)\n",
    "        return self.linear(y1[:, :, -1])\n",
    "\n",
    "\n",
    "class Chomp1d(nn.Module):\n",
    "    def __init__(self, chomp_size):\n",
    "        super(Chomp1d, self).__init__()\n",
    "        self.chomp_size = chomp_size\n",
    "\n",
    "    def forward(self, x):\n",
    "        return x[:, :, :-self.chomp_size].contiguous()\n",
    "\n",
    "class TemporalConvNet(nn.Module):\n",
    "    def __init__(self, num_inputs, num_channels, kernel_size=2, dropout=0.2):\n",
    "        super(TemporalConvNet, self).__init__()\n",
    "        layers = []\n",
    "        num_levels = len(num_channels)\n",
    "        for i in range(num_levels):\n",
    "            dilation_size = 2 ** i\n",
    "            in_channels = num_inputs if i == 0 else num_channels[i-1]\n",
    "            out_channels = num_channels[i]\n",
    "            layers += [TemporalBlock(in_channels, out_channels, kernel_size, stride=1, dilation=dilation_size,\n",
    "                                     padding=(kernel_size-1) * dilation_size, dropout=dropout)]\n",
    "\n",
    "        self.network = nn.Sequential(*layers)\n",
    "\n",
    "    def forward(self, x):\n",
    "        return self.network(x)\n"
   ]
  },
  {
   "cell_type": "markdown",
   "metadata": {
    "id": "bf3AG8CWC40F"
   },
   "source": [
    "**2(a)** Build your TCN model below"
   ]
  },
  {
   "cell_type": "code",
   "execution_count": 23,
   "metadata": {
    "executionInfo": {
     "elapsed": 786,
     "status": "ok",
     "timestamp": 1603682220068,
     "user": {
      "displayName": "VΓΛ:D Chiang",
      "photoUrl": "https://lh3.googleusercontent.com/a-/AOh14Gh6NMkbCLmxYaYTlBGeO6OMn-ehGPnZwNoz3tq7=s64",
      "userId": "08556306977111819398"
     },
     "user_tz": 240
    },
    "id": "mN_krETLCwxY"
   },
   "outputs": [],
   "source": [
    "class TemporalBlock(nn.Module):\n",
    "    def __init__(self, n_inputs, n_outputs, kernel_size, stride, dilation, padding, dropout=0.2):\n",
    "        super(TemporalBlock, self).__init__()\n",
    "        \n",
    "        # Your Code:\n",
    "        self.conv1 = weight_norm(nn.Conv1d(n_inputs, n_outputs, kernel_size, \n",
    "                                           stride=stride, padding=padding, dilation=dilation))\n",
    "        self.chomp1 = Chomp1d(padding)\n",
    "        self.relu1 = nn.ReLU()\n",
    "        self.dropout1 = nn.Dropout(dropout)\n",
    "\n",
    "        self.conv2 = weight_norm(nn.Conv1d(n_outputs, n_outputs, kernel_size,\n",
    "                                           stride=stride, padding=padding, dilation=dilation))\n",
    "        self.chomp2 = Chomp1d(padding)\n",
    "        self.relu2 = nn.ReLU()\n",
    "        self.dropout2 = nn.Dropout(dropout)\n",
    "\n",
    "        self.net = nn.Sequential(self.conv1, self.chomp1, self.relu1, self.dropout1,\n",
    "                                 self.conv2, self.chomp2, self.relu2, self.dropout2)\n",
    "        self.downsample = nn.Conv1d(n_inputs, n_outputs, 1) if n_inputs != n_outputs else None\n",
    "        self.relu = nn.ReLU()\n",
    "        self.init_weights()\n",
    "\n",
    "    def init_weights(self):\n",
    "        self.conv1.weight.data.normal_(0, 0.01)\n",
    "        self.conv2.weight.data.normal_(0, 0.01)\n",
    "        if self.downsample is not None:\n",
    "            self.downsample.weight.data.normal_(0, 0.01)\n",
    "\n",
    "    def forward(self, x):\n",
    "        out = self.net(x)\n",
    "        res = x if self.downsample is None else self.downsample(x)\n",
    "        return self.relu(out + res)"
   ]
  },
  {
   "cell_type": "markdown",
   "metadata": {
    "id": "OSICsQXAEfqv"
   },
   "source": [
    "Train your model. You need to use GPU for training here. To start a GPU on your colab, follow the steps below."
   ]
  },
  {
   "cell_type": "markdown",
   "metadata": {
    "id": "XJQ1NpUpKPM_"
   },
   "source": [
    "\n",
    "Step1:\n",
    "\n",
    "![img_1.png](data:image/png;base64,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)"
   ]
  },
  {
   "cell_type": "markdown",
   "metadata": {
    "id": "VI_-03iWK96P"
   },
   "source": [
    "Step2\n",
    "\n",
    "\n",
    "![img_2.png](data:image/png;base64,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)"
   ]
  },
  {
   "cell_type": "code",
   "execution_count": null,
   "metadata": {
    "colab": {
     "base_uri": "https://localhost:8080/",
     "height": 1000
    },
    "executionInfo": {
     "elapsed": 72647,
     "status": "ok",
     "timestamp": 1603670277749,
     "user": {
      "displayName": "VΓΛ:D Chiang",
      "photoUrl": "https://lh3.googleusercontent.com/a-/AOh14Gh6NMkbCLmxYaYTlBGeO6OMn-ehGPnZwNoz3tq7=s64",
      "userId": "08556306977111819398"
     },
     "user_tz": 240
    },
    "id": "PXkcUFk9sWaB",
    "outputId": "37c49805-1f70-4b40-a7f4-72a17a00c31a"
   },
   "outputs": [
    {
     "name": "stderr",
     "output_type": "stream",
     "text": [
      " 33%|███▎      | 1651/5000 [00:00<00:00, 16509.90it/s]"
     ]
    },
    {
     "name": "stdout",
     "output_type": "stream",
     "text": [
      "batch_size: 32\n",
      "clip: -1\n",
      "cuda: true\n",
      "dropout: false\n",
      "epochs: 30\n",
      "ksize: 7\n",
      "levels: 8\n",
      "log_interval: 100\n",
      "lr: 0.0004\n",
      "nhid: 30\n",
      "optim: Adam\n",
      "seed: 112\n",
      "seq_len: 100\n",
      "\n",
      "Producing data...\n"
     ]
    },
    {
     "name": "stderr",
     "output_type": "stream",
     "text": [
      "100%|██████████| 5000/5000 [00:00<00:00, 15903.76it/s]\n",
      "100%|██████████| 100/100 [00:00<00:00, 11200.94it/s]\n"
     ]
    },
    {
     "name": "stdout",
     "output_type": "stream",
     "text": [
      "Train Epoch:  1 [  3168/  5000 (63%)]\tLearning rate: 0.0004\tLoss: 0.326211\n",
      "\n",
      "Validation set: Average loss: 0.165078\n",
      "\n",
      "Train Epoch:  2 [  3168/  5000 (63%)]\tLearning rate: 0.0004\tLoss: 0.172340\n",
      "\n",
      "Validation set: Average loss: 0.167915\n",
      "\n",
      "Train Epoch:  3 [  3168/  5000 (63%)]\tLearning rate: 0.0004\tLoss: 0.170886\n",
      "\n",
      "Validation set: Average loss: 0.167368\n",
      "\n",
      "Train Epoch:  4 [  3168/  5000 (63%)]\tLearning rate: 0.0004\tLoss: 0.168199\n",
      "\n",
      "Validation set: Average loss: 0.165383\n",
      "\n",
      "Train Epoch:  5 [  3168/  5000 (63%)]\tLearning rate: 0.0004\tLoss: 0.164180\n",
      "\n",
      "Validation set: Average loss: 0.162475\n",
      "\n",
      "Train Epoch:  6 [  3168/  5000 (63%)]\tLearning rate: 0.0004\tLoss: 0.156626\n",
      "\n",
      "Validation set: Average loss: 0.152685\n",
      "\n",
      "Train Epoch:  7 [  3168/  5000 (63%)]\tLearning rate: 0.0004\tLoss: 0.132379\n",
      "\n",
      "Validation set: Average loss: 0.070007\n",
      "\n",
      "Train Epoch:  8 [  3168/  5000 (63%)]\tLearning rate: 0.0004\tLoss: 0.044760\n",
      "\n",
      "Validation set: Average loss: 0.024329\n",
      "\n",
      "Train Epoch:  9 [  3168/  5000 (63%)]\tLearning rate: 0.0004\tLoss: 0.021256\n",
      "\n",
      "Validation set: Average loss: 0.016801\n",
      "\n",
      "Train Epoch: 10 [  3168/  5000 (63%)]\tLearning rate: 0.0004\tLoss: 0.014678\n",
      "\n",
      "Validation set: Average loss: 0.015103\n",
      "\n",
      "Train Epoch: 11 [  3168/  5000 (63%)]\tLearning rate: 0.0004\tLoss: 0.011543\n",
      "\n",
      "Validation set: Average loss: 0.016157\n",
      "\n",
      "Train Epoch: 12 [  3168/  5000 (63%)]\tLearning rate: 0.0004\tLoss: 0.009706\n",
      "\n",
      "Validation set: Average loss: 0.016822\n",
      "\n",
      "Train Epoch: 13 [  3168/  5000 (63%)]\tLearning rate: 0.0004\tLoss: 0.008422\n",
      "\n",
      "Validation set: Average loss: 0.017091\n",
      "\n",
      "Train Epoch: 14 [  3168/  5000 (63%)]\tLearning rate: 0.0004\tLoss: 0.007476\n",
      "\n",
      "Validation set: Average loss: 0.017638\n",
      "\n",
      "Train Epoch: 15 [  3168/  5000 (63%)]\tLearning rate: 0.0004\tLoss: 0.006688\n",
      "\n",
      "Validation set: Average loss: 0.015881\n",
      "\n",
      "Train Epoch: 16 [  3168/  5000 (63%)]\tLearning rate: 0.0004\tLoss: 0.005850\n",
      "\n",
      "Validation set: Average loss: 0.010987\n",
      "\n",
      "Train Epoch: 17 [  3168/  5000 (63%)]\tLearning rate: 0.0004\tLoss: 0.005101\n",
      "\n",
      "Validation set: Average loss: 0.007331\n",
      "\n",
      "Train Epoch: 18 [  3168/  5000 (63%)]\tLearning rate: 0.0004\tLoss: 0.004639\n",
      "\n",
      "Validation set: Average loss: 0.006119\n",
      "\n",
      "Train Epoch: 19 [  3168/  5000 (63%)]\tLearning rate: 0.0004\tLoss: 0.004186\n",
      "\n",
      "Validation set: Average loss: 0.004859\n",
      "\n",
      "Train Epoch: 20 [  3168/  5000 (63%)]\tLearning rate: 0.0004\tLoss: 0.003902\n",
      "\n",
      "Validation set: Average loss: 0.004548\n",
      "\n",
      "Train Epoch: 21 [  3168/  5000 (63%)]\tLearning rate: 0.0004\tLoss: 0.003663\n",
      "\n",
      "Validation set: Average loss: 0.004030\n",
      "\n",
      "Train Epoch: 22 [  3168/  5000 (63%)]\tLearning rate: 0.0004\tLoss: 0.003443\n",
      "\n",
      "Validation set: Average loss: 0.003653\n",
      "\n",
      "Train Epoch: 23 [  3168/  5000 (63%)]\tLearning rate: 0.0004\tLoss: 0.003248\n",
      "\n",
      "Validation set: Average loss: 0.003378\n",
      "\n",
      "Train Epoch: 24 [  3168/  5000 (63%)]\tLearning rate: 0.0004\tLoss: 0.003074\n",
      "\n",
      "Validation set: Average loss: 0.003169\n",
      "\n",
      "Train Epoch: 25 [  3168/  5000 (63%)]\tLearning rate: 0.0004\tLoss: 0.002911\n",
      "\n",
      "Validation set: Average loss: 0.003036\n",
      "\n",
      "Train Epoch: 26 [  3168/  5000 (63%)]\tLearning rate: 0.0004\tLoss: 0.002716\n",
      "\n",
      "Validation set: Average loss: 0.002947\n",
      "\n",
      "Train Epoch: 27 [  3168/  5000 (63%)]\tLearning rate: 0.0004\tLoss: 0.002557\n",
      "\n",
      "Validation set: Average loss: 0.002825\n",
      "\n",
      "Train Epoch: 28 [  3168/  5000 (63%)]\tLearning rate: 0.0004\tLoss: 0.002449\n",
      "\n",
      "Validation set: Average loss: 0.002799\n",
      "\n",
      "Train Epoch: 29 [  3168/  5000 (63%)]\tLearning rate: 0.0004\tLoss: 0.002290\n",
      "\n",
      "Validation set: Average loss: 0.002678\n",
      "\n",
      "Train Epoch: 30 [  3168/  5000 (63%)]\tLearning rate: 0.0004\tLoss: 0.002201\n",
      "\n",
      "Validation set: Average loss: 0.002633\n",
      "\n"
     ]
    }
   ],
   "source": [
    "import torch\n",
    "import numpy as np\n",
    "from tqdm import tqdm\n",
    "import torch.nn as nn\n",
    "from bunch import Bunch\n",
    "import torch.optim as optim\n",
    "import torch.nn.functional as F\n",
    "from torch.autograd import Variable\n",
    "from torch.nn.utils import weight_norm\n",
    "\n",
    "torch.manual_seed(args.seed)\n",
    "if torch.cuda.is_available():\n",
    "    if not args.cuda:\n",
    "        print(\"WARNING: You have a CUDA device, so you should probably run with --cuda\")\n",
    "\n",
    "input_channels = 2\n",
    "n_classes = 1\n",
    "batch_size = args.batch_size\n",
    "seq_length = args.seq_len\n",
    "epochs = args.epochs\n",
    "\n",
    "print(args)\n",
    "print(\"Producing data...\")\n",
    "X_train, Y_train = data_generator(5000, seq_length)\n",
    "X_test, Y_test = data_generator(100, seq_length)\n",
    "\n",
    "\n",
    "# Note: We use a very simple setting here (assuming all levels have the same # of channels.\n",
    "channel_sizes = [args.nhid]*args.levels\n",
    "kernel_size = args.ksize\n",
    "dropout = args.dropout\n",
    "model = TCN(input_channels, n_classes, channel_sizes, kernel_size=kernel_size, dropout=dropout)\n",
    "\n",
    "if args.cuda:\n",
    "    model.cuda()\n",
    "    X_train = X_train.cuda()\n",
    "    Y_train = Y_train.cuda()\n",
    "    X_test = X_test.cuda()\n",
    "    Y_test = Y_test.cuda()\n",
    "\n",
    "lr = args.lr\n",
    "optimizer = getattr(optim, args.optim)(model.parameters(), lr=lr)\n",
    "\n",
    "\n",
    "def train(epoch):\n",
    "    global lr\n",
    "    model.train()\n",
    "    batch_idx = 1\n",
    "    total_loss = 0\n",
    "    for i in range(0, X_train.size(0), batch_size):\n",
    "        if i + batch_size > X_train.size(0):\n",
    "            x, y = X_train[i:], Y_train[i:]\n",
    "        else:\n",
    "            x, y = X_train[i:(i+batch_size)], Y_train[i:(i+batch_size)]\n",
    "        optimizer.zero_grad()\n",
    "        output = model(x)\n",
    "        loss = F.mse_loss(output, y)\n",
    "        loss.backward()\n",
    "        if args.clip > 0:\n",
    "            torch.nn.utils.clip_grad_norm_(model.parameters(), args.clip)\n",
    "        optimizer.step()\n",
    "        batch_idx += 1\n",
    "        total_loss += loss.item()\n",
    "\n",
    "        if batch_idx % args.log_interval == 0:\n",
    "            cur_loss = total_loss / args.log_interval\n",
    "            processed = min(i+batch_size, X_train.size(0))\n",
    "            print('Train Epoch: {:2d} [{:6d}/{:6d} ({:.0f}%)]\\tLearning rate: {:.4f}\\tLoss: {:.6f}'.format(\n",
    "                epoch, processed, X_train.size(0), 100.*processed/X_train.size(0), lr, cur_loss))\n",
    "            total_loss = 0\n",
    "\n",
    "\n",
    "def evaluate():\n",
    "    model.eval()\n",
    "    with torch.no_grad():\n",
    "        output = model(X_test)\n",
    "        test_loss = F.mse_loss(output, Y_test)\n",
    "        print('\\nValidation set: Average loss: {:.6f}\\n'.format(test_loss.item()))\n",
    "        return test_loss.item()\n",
    "\n",
    "\n",
    "for ep in range(1, epochs+1):\n",
    "    train(ep)\n",
    "    tloss = evaluate()"
   ]
  },
  {
   "cell_type": "code",
   "execution_count": null,
   "metadata": {
    "colab": {
     "base_uri": "https://localhost:8080/",
     "height": 34
    },
    "executionInfo": {
     "elapsed": 310,
     "status": "ok",
     "timestamp": 1603670281065,
     "user": {
      "displayName": "VΓΛ:D Chiang",
      "photoUrl": "https://lh3.googleusercontent.com/a-/AOh14Gh6NMkbCLmxYaYTlBGeO6OMn-ehGPnZwNoz3tq7=s64",
      "userId": "08556306977111819398"
     },
     "user_tz": 240
    },
    "id": "IzBGs4L5HJpw",
    "outputId": "91e0f064-ff7b-4d5b-adfc-16f2c16c0abf"
   },
   "outputs": [
    {
     "name": "stdout",
     "output_type": "stream",
     "text": [
      "Test Accuracy: 0.15\n"
     ]
    }
   ],
   "source": [
    "# Give the test accuracy. We mark the prediction as correct if the prediction is in \n",
    "# the interval [label-0.2, label+0.2].\n",
    "preds = model(X_test)\n",
    "\n",
    "i = 0\n",
    "corr = 0\n",
    "for pred in preds:\n",
    "    if (pred.data[0]-0.2) <= Y_test[i-1][0] and Y_test[i-1][0]<=(pred.data[0]+0.2):\n",
    "        corr += 1\n",
    "        i += 1\n",
    "\n",
    "print('Test Accuracy:', corr/len(Y_test))"
   ]
  },
  {
   "cell_type": "markdown",
   "metadata": {
    "id": "qmBOwqphE32Z"
   },
   "source": [
    "**2(b)** Show the best result you got by using default training parameters. You only need to give the best and the worst `Average loss` you got here on the validation set, and the `test accuracy`. "
   ]
  },
  {
   "cell_type": "markdown",
   "metadata": {
    "id": "IUqW92li3FUr"
   },
   "source": [
    "**The worst average lost is 0.167915 while the best average lost is 0.002633, the test accuracy is 0.15.**"
   ]
  },
  {
   "cell_type": "markdown",
   "metadata": {
    "id": "JXArmQQ-FtQO"
   },
   "source": [
    "**2(c)** Now choose the training parameters by yourself and retrain the model. Please make sure you get better result compare to 2(b). Specify what you changed and why you think that will improve your result. "
   ]
  },
  {
   "cell_type": "code",
   "execution_count": 29,
   "metadata": {
    "colab": {
     "base_uri": "https://localhost:8080/",
     "height": 3706
    },
    "executionInfo": {
     "elapsed": 156791,
     "status": "ok",
     "timestamp": 1603682672237,
     "user": {
      "displayName": "VΓΛ:D Chiang",
      "photoUrl": "https://lh3.googleusercontent.com/a-/AOh14Gh6NMkbCLmxYaYTlBGeO6OMn-ehGPnZwNoz3tq7=s64",
      "userId": "08556306977111819398"
     },
     "user_tz": 240
    },
    "id": "F_B0bVmKsWIK",
    "outputId": "8b1b8a85-28ec-40fe-b95d-331c6e9e73b4"
   },
   "outputs": [
    {
     "name": "stderr",
     "output_type": "stream",
     "text": [
      " 36%|███▌      | 1809/5000 [00:00<00:00, 18083.85it/s]"
     ]
    },
    {
     "name": "stdout",
     "output_type": "stream",
     "text": [
      "batch_size: 32\n",
      "clip: -1\n",
      "cuda: true\n",
      "dropout: false\n",
      "epochs: 50\n",
      "ksize: 7\n",
      "levels: 8\n",
      "log_interval: 100\n",
      "lr: 0.0002\n",
      "nhid: 30\n",
      "optim: Adam\n",
      "seed: 112\n",
      "seq_len: 100\n",
      "\n",
      "Producing data...\n"
     ]
    },
    {
     "name": "stderr",
     "output_type": "stream",
     "text": [
      "100%|██████████| 5000/5000 [00:00<00:00, 17638.05it/s]\n",
      "100%|██████████| 100/100 [00:00<00:00, 10204.13it/s]\n"
     ]
    },
    {
     "name": "stdout",
     "output_type": "stream",
     "text": [
      "Train Epoch:  1 [  3168/  5000 (63%)]\tLearning rate: 0.0002\tLoss: 0.562237\n",
      "\n",
      "Validation set: Average loss: 0.155755\n",
      "\n",
      "Train Epoch:  2 [  3168/  5000 (63%)]\tLearning rate: 0.0002\tLoss: 0.163543\n",
      "\n",
      "Validation set: Average loss: 0.155121\n",
      "\n",
      "Train Epoch:  3 [  3168/  5000 (63%)]\tLearning rate: 0.0002\tLoss: 0.162757\n",
      "\n",
      "Validation set: Average loss: 0.153740\n",
      "\n",
      "Train Epoch:  4 [  3168/  5000 (63%)]\tLearning rate: 0.0002\tLoss: 0.160847\n",
      "\n",
      "Validation set: Average loss: 0.150516\n",
      "\n",
      "Train Epoch:  5 [  3168/  5000 (63%)]\tLearning rate: 0.0002\tLoss: 0.156138\n",
      "\n",
      "Validation set: Average loss: 0.142645\n",
      "\n",
      "Train Epoch:  6 [  3168/  5000 (63%)]\tLearning rate: 0.0002\tLoss: 0.146576\n",
      "\n",
      "Validation set: Average loss: 0.130234\n",
      "\n",
      "Train Epoch:  7 [  3168/  5000 (63%)]\tLearning rate: 0.0002\tLoss: 0.113675\n",
      "\n",
      "Validation set: Average loss: 0.053789\n",
      "\n",
      "Train Epoch:  8 [  3168/  5000 (63%)]\tLearning rate: 0.0002\tLoss: 0.054052\n",
      "\n",
      "Validation set: Average loss: 0.042165\n",
      "\n",
      "Train Epoch:  9 [  3168/  5000 (63%)]\tLearning rate: 0.0002\tLoss: 0.039068\n",
      "\n",
      "Validation set: Average loss: 0.034012\n",
      "\n",
      "Train Epoch: 10 [  3168/  5000 (63%)]\tLearning rate: 0.0002\tLoss: 0.030163\n",
      "\n",
      "Validation set: Average loss: 0.030374\n",
      "\n",
      "Train Epoch: 11 [  3168/  5000 (63%)]\tLearning rate: 0.0002\tLoss: 0.026310\n",
      "\n",
      "Validation set: Average loss: 0.027322\n",
      "\n",
      "Train Epoch: 12 [  3168/  5000 (63%)]\tLearning rate: 0.0002\tLoss: 0.023691\n",
      "\n",
      "Validation set: Average loss: 0.024981\n",
      "\n",
      "Train Epoch: 13 [  3168/  5000 (63%)]\tLearning rate: 0.0002\tLoss: 0.021569\n",
      "\n",
      "Validation set: Average loss: 0.023191\n",
      "\n",
      "Train Epoch: 14 [  3168/  5000 (63%)]\tLearning rate: 0.0002\tLoss: 0.019740\n",
      "\n",
      "Validation set: Average loss: 0.021754\n",
      "\n",
      "Train Epoch: 15 [  3168/  5000 (63%)]\tLearning rate: 0.0002\tLoss: 0.018085\n",
      "\n",
      "Validation set: Average loss: 0.020427\n",
      "\n",
      "Train Epoch: 16 [  3168/  5000 (63%)]\tLearning rate: 0.0002\tLoss: 0.016507\n",
      "\n",
      "Validation set: Average loss: 0.019063\n",
      "\n",
      "Train Epoch: 17 [  3168/  5000 (63%)]\tLearning rate: 0.0002\tLoss: 0.015009\n",
      "\n",
      "Validation set: Average loss: 0.017469\n",
      "\n",
      "Train Epoch: 18 [  3168/  5000 (63%)]\tLearning rate: 0.0002\tLoss: 0.013658\n",
      "\n",
      "Validation set: Average loss: 0.015565\n",
      "\n",
      "Train Epoch: 19 [  3168/  5000 (63%)]\tLearning rate: 0.0002\tLoss: 0.012307\n",
      "\n",
      "Validation set: Average loss: 0.013802\n",
      "\n",
      "Train Epoch: 20 [  3168/  5000 (63%)]\tLearning rate: 0.0002\tLoss: 0.011064\n",
      "\n",
      "Validation set: Average loss: 0.012319\n",
      "\n",
      "Train Epoch: 21 [  3168/  5000 (63%)]\tLearning rate: 0.0002\tLoss: 0.010013\n",
      "\n",
      "Validation set: Average loss: 0.011003\n",
      "\n",
      "Train Epoch: 22 [  3168/  5000 (63%)]\tLearning rate: 0.0002\tLoss: 0.009052\n",
      "\n",
      "Validation set: Average loss: 0.009678\n",
      "\n",
      "Train Epoch: 23 [  3168/  5000 (63%)]\tLearning rate: 0.0002\tLoss: 0.008251\n",
      "\n",
      "Validation set: Average loss: 0.008705\n",
      "\n",
      "Train Epoch: 24 [  3168/  5000 (63%)]\tLearning rate: 0.0002\tLoss: 0.007609\n",
      "\n",
      "Validation set: Average loss: 0.007848\n",
      "\n",
      "Train Epoch: 25 [  3168/  5000 (63%)]\tLearning rate: 0.0002\tLoss: 0.007042\n",
      "\n",
      "Validation set: Average loss: 0.007237\n",
      "\n",
      "Train Epoch: 26 [  3168/  5000 (63%)]\tLearning rate: 0.0002\tLoss: 0.006594\n",
      "\n",
      "Validation set: Average loss: 0.006720\n",
      "\n",
      "Train Epoch: 27 [  3168/  5000 (63%)]\tLearning rate: 0.0002\tLoss: 0.006269\n",
      "\n",
      "Validation set: Average loss: 0.006379\n",
      "\n",
      "Train Epoch: 28 [  3168/  5000 (63%)]\tLearning rate: 0.0002\tLoss: 0.005974\n",
      "\n",
      "Validation set: Average loss: 0.006046\n",
      "\n",
      "Train Epoch: 29 [  3168/  5000 (63%)]\tLearning rate: 0.0002\tLoss: 0.005691\n",
      "\n",
      "Validation set: Average loss: 0.005857\n",
      "\n",
      "Train Epoch: 30 [  3168/  5000 (63%)]\tLearning rate: 0.0002\tLoss: 0.005455\n",
      "\n",
      "Validation set: Average loss: 0.005748\n",
      "\n",
      "Train Epoch: 31 [  3168/  5000 (63%)]\tLearning rate: 0.0002\tLoss: 0.005233\n",
      "\n",
      "Validation set: Average loss: 0.005783\n",
      "\n",
      "Train Epoch: 32 [  3168/  5000 (63%)]\tLearning rate: 0.0002\tLoss: 0.005027\n",
      "\n",
      "Validation set: Average loss: 0.005670\n",
      "\n",
      "Train Epoch: 33 [  3168/  5000 (63%)]\tLearning rate: 0.0002\tLoss: 0.004805\n",
      "\n",
      "Validation set: Average loss: 0.005469\n",
      "\n",
      "Train Epoch: 34 [  3168/  5000 (63%)]\tLearning rate: 0.0002\tLoss: 0.004625\n",
      "\n",
      "Validation set: Average loss: 0.005234\n",
      "\n",
      "Train Epoch: 35 [  3168/  5000 (63%)]\tLearning rate: 0.0002\tLoss: 0.004421\n",
      "\n",
      "Validation set: Average loss: 0.004707\n",
      "\n",
      "Train Epoch: 36 [  3168/  5000 (63%)]\tLearning rate: 0.0002\tLoss: 0.004272\n",
      "\n",
      "Validation set: Average loss: 0.004489\n",
      "\n",
      "Train Epoch: 37 [  3168/  5000 (63%)]\tLearning rate: 0.0002\tLoss: 0.004130\n",
      "\n",
      "Validation set: Average loss: 0.004139\n",
      "\n",
      "Train Epoch: 38 [  3168/  5000 (63%)]\tLearning rate: 0.0002\tLoss: 0.004008\n",
      "\n",
      "Validation set: Average loss: 0.003901\n",
      "\n",
      "Train Epoch: 39 [  3168/  5000 (63%)]\tLearning rate: 0.0002\tLoss: 0.003910\n",
      "\n",
      "Validation set: Average loss: 0.003688\n",
      "\n",
      "Train Epoch: 40 [  3168/  5000 (63%)]\tLearning rate: 0.0002\tLoss: 0.003810\n",
      "\n",
      "Validation set: Average loss: 0.003520\n",
      "\n",
      "Train Epoch: 41 [  3168/  5000 (63%)]\tLearning rate: 0.0002\tLoss: 0.003730\n",
      "\n",
      "Validation set: Average loss: 0.003376\n",
      "\n",
      "Train Epoch: 42 [  3168/  5000 (63%)]\tLearning rate: 0.0002\tLoss: 0.003638\n",
      "\n",
      "Validation set: Average loss: 0.003390\n",
      "\n",
      "Train Epoch: 43 [  3168/  5000 (63%)]\tLearning rate: 0.0002\tLoss: 0.003565\n",
      "\n",
      "Validation set: Average loss: 0.003204\n",
      "\n",
      "Train Epoch: 44 [  3168/  5000 (63%)]\tLearning rate: 0.0002\tLoss: 0.003485\n",
      "\n",
      "Validation set: Average loss: 0.003273\n",
      "\n",
      "Train Epoch: 45 [  3168/  5000 (63%)]\tLearning rate: 0.0002\tLoss: 0.003400\n",
      "\n",
      "Validation set: Average loss: 0.003113\n",
      "\n",
      "Train Epoch: 46 [  3168/  5000 (63%)]\tLearning rate: 0.0002\tLoss: 0.003327\n",
      "\n",
      "Validation set: Average loss: 0.002881\n",
      "\n",
      "Train Epoch: 47 [  3168/  5000 (63%)]\tLearning rate: 0.0002\tLoss: 0.003227\n",
      "\n",
      "Validation set: Average loss: 0.002850\n",
      "\n",
      "Train Epoch: 48 [  3168/  5000 (63%)]\tLearning rate: 0.0002\tLoss: 0.003163\n",
      "\n",
      "Validation set: Average loss: 0.002776\n",
      "\n",
      "Train Epoch: 49 [  3168/  5000 (63%)]\tLearning rate: 0.0002\tLoss: 0.003119\n",
      "\n",
      "Validation set: Average loss: 0.002784\n",
      "\n",
      "Train Epoch: 50 [  3168/  5000 (63%)]\tLearning rate: 0.0002\tLoss: 0.003058\n",
      "\n",
      "Validation set: Average loss: 0.002732\n",
      "\n"
     ]
    }
   ],
   "source": [
    "# Your code:\n",
    "args = Bunch()\n",
    "args.batch_size = 32\n",
    "args.cuda = True\n",
    "args.dropout = False\n",
    "args.clip = -1\n",
    "args.epochs = 50\n",
    "args.ksize = 7\n",
    "args.levels = 8\n",
    "args.seq_len = 100\n",
    "args.log_interval = 100\n",
    "args.lr = 2e-4\n",
    "args.optim = 'Adam'\n",
    "args.nhid = 30\n",
    "args.seed = 112\n",
    "\n",
    "class TCN(nn.Module):\n",
    "    def __init__(self, input_size, output_size, num_channels, kernel_size, dropout):\n",
    "        super(TCN, self).__init__()\n",
    "        self.tcn = TemporalConvNet(input_size, num_channels, kernel_size=kernel_size, dropout=dropout)\n",
    "        self.linear = nn.Linear(num_channels[-1], output_size)\n",
    "        self.init_weights()\n",
    "\n",
    "    def init_weights(self):\n",
    "        self.linear.weight.data.normal_(0, 0.01)\n",
    "\n",
    "    def forward(self, x):\n",
    "        y1 = self.tcn(x)\n",
    "        return self.linear(y1[:, :, -1])\n",
    "\n",
    "\n",
    "class Chomp1d(nn.Module):\n",
    "    def __init__(self, chomp_size):\n",
    "        super(Chomp1d, self).__init__()\n",
    "        self.chomp_size = chomp_size\n",
    "\n",
    "    def forward(self, x):\n",
    "        return x[:, :, :-self.chomp_size].contiguous()\n",
    "\n",
    "class TemporalConvNet(nn.Module):\n",
    "    def __init__(self, num_inputs, num_channels, kernel_size=2, dropout=0.2):\n",
    "        super(TemporalConvNet, self).__init__()\n",
    "        layers = []\n",
    "        num_levels = len(num_channels)\n",
    "        for i in range(num_levels):\n",
    "            dilation_size = 2 ** i\n",
    "            in_channels = num_inputs if i == 0 else num_channels[i-1]\n",
    "            out_channels = num_channels[i]\n",
    "            layers += [TemporalBlock(in_channels, out_channels, kernel_size, stride=1, dilation=dilation_size,\n",
    "                                     padding=(kernel_size-1) * dilation_size, dropout=dropout)]\n",
    "\n",
    "        self.network = nn.Sequential(*layers)\n",
    "\n",
    "    def forward(self, x):\n",
    "        return self.network(x)\n",
    "\n",
    "class TemporalBlock(nn.Module):\n",
    "    def __init__(self, n_inputs, n_outputs, kernel_size, stride, dilation, padding, dropout=0.2):\n",
    "        super(TemporalBlock, self).__init__()\n",
    "        \n",
    "        self.conv1 = weight_norm(nn.Conv1d(n_inputs, n_outputs, kernel_size, \n",
    "                                           stride=stride, padding=padding, dilation=dilation))\n",
    "        self.chomp1 = Chomp1d(padding)\n",
    "        self.relu1 = nn.ReLU()\n",
    "        self.dropout1 = nn.Dropout(dropout)\n",
    "\n",
    "        self.conv2 = weight_norm(nn.Conv1d(n_outputs, n_outputs, kernel_size,\n",
    "                                           stride=stride, padding=padding, dilation=dilation))\n",
    "        self.chomp2 = Chomp1d(padding)\n",
    "        self.relu2 = nn.ReLU()\n",
    "        self.dropout2 = nn.Dropout(dropout)\n",
    "\n",
    "        self.conv3 = weight_norm(nn.Conv1d(n_outputs, n_outputs, kernel_size,\n",
    "                                           stride=stride, padding=padding, dilation=dilation))\n",
    "        self.chomp3 = Chomp1d(padding)\n",
    "        self.relu3 = nn.ReLU()\n",
    "        self.dropout3 = nn.Dropout(dropout)\n",
    "\n",
    "        self.net = nn.Sequential(self.conv1, self.chomp1, self.relu1, self.dropout1,\n",
    "                                 self.conv2, self.chomp2, self.relu2, self.dropout2,\n",
    "                                 self.conv3, self.chomp3, self.relu3, self.dropout3)\n",
    "        self.downsample = nn.Conv1d(n_inputs, n_outputs, 1) if n_inputs != n_outputs else None\n",
    "        self.relu = nn.ReLU()\n",
    "        self.init_weights()\n",
    "\n",
    "    def init_weights(self):\n",
    "        self.conv1.weight.data.normal_(0, 0.01)\n",
    "        self.conv2.weight.data.normal_(0, 0.01)\n",
    "        self.conv3.weight.data.normal_(0, 0.01)\n",
    "        if self.downsample is not None:\n",
    "            self.downsample.weight.data.normal_(0, 0.01)\n",
    "\n",
    "    def forward(self, x):\n",
    "        out = self.net(x)\n",
    "        res = x if self.downsample is None else self.downsample(x)\n",
    "        return self.relu(out + res)\n",
    "\n",
    "input_channels = 2\n",
    "n_classes = 1\n",
    "batch_size = args.batch_size\n",
    "seq_length = args.seq_len\n",
    "epochs = args.epochs\n",
    "\n",
    "print(args)\n",
    "print(\"Producing data...\")\n",
    "X_train, Y_train = data_generator(5000, seq_length)\n",
    "X_test, Y_test = data_generator(100, seq_length)\n",
    "\n",
    "\n",
    "# Note: We use a very simple setting here (assuming all levels have the same # of channels.\n",
    "channel_sizes = [args.nhid]*args.levels\n",
    "kernel_size = args.ksize\n",
    "dropout = args.dropout\n",
    "model = TCN(input_channels, n_classes, channel_sizes, kernel_size=kernel_size, dropout=dropout)\n",
    "\n",
    "if args.cuda:\n",
    "    model.cuda()\n",
    "    X_train = X_train.cuda()\n",
    "    Y_train = Y_train.cuda()\n",
    "    X_test = X_test.cuda()\n",
    "    Y_test = Y_test.cuda()\n",
    "\n",
    "lr = args.lr\n",
    "optimizer = getattr(optim, args.optim)(model.parameters(), lr=lr)\n",
    "\n",
    "\n",
    "def train(epoch):\n",
    "    global lr\n",
    "    model.train()\n",
    "    batch_idx = 1\n",
    "    total_loss = 0\n",
    "    for i in range(0, X_train.size(0), batch_size):\n",
    "        if i + batch_size > X_train.size(0):\n",
    "            x, y = X_train[i:], Y_train[i:]\n",
    "        else:\n",
    "            x, y = X_train[i:(i+batch_size)], Y_train[i:(i+batch_size)]\n",
    "        optimizer.zero_grad()\n",
    "        output = model(x)\n",
    "        loss = F.mse_loss(output, y)\n",
    "        loss.backward()\n",
    "        if args.clip > 0:\n",
    "            torch.nn.utils.clip_grad_norm_(model.parameters(), args.clip)\n",
    "        optimizer.step()\n",
    "        batch_idx += 1\n",
    "        total_loss += loss.item()\n",
    "\n",
    "        if batch_idx % args.log_interval == 0:\n",
    "            cur_loss = total_loss / args.log_interval\n",
    "            processed = min(i+batch_size, X_train.size(0))\n",
    "            print('Train Epoch: {:2d} [{:6d}/{:6d} ({:.0f}%)]\\tLearning rate: {:.4f}\\tLoss: {:.6f}'.format(\n",
    "                epoch, processed, X_train.size(0), 100.*processed/X_train.size(0), lr, cur_loss))\n",
    "            total_loss = 0\n",
    "\n",
    "\n",
    "def evaluate():\n",
    "    model.eval()\n",
    "    with torch.no_grad():\n",
    "        output = model(X_test)\n",
    "        test_loss = F.mse_loss(output, Y_test)\n",
    "        print('\\nValidation set: Average loss: {:.6f}\\n'.format(test_loss.item()))\n",
    "        return test_loss.item()\n",
    "\n",
    "\n",
    "for ep in range(1, epochs+1):\n",
    "    train(ep)\n",
    "    tloss = evaluate()"
   ]
  },
  {
   "cell_type": "code",
   "execution_count": 30,
   "metadata": {
    "colab": {
     "base_uri": "https://localhost:8080/",
     "height": 34
    },
    "executionInfo": {
     "elapsed": 593,
     "status": "ok",
     "timestamp": 1603682695865,
     "user": {
      "displayName": "VΓΛ:D Chiang",
      "photoUrl": "https://lh3.googleusercontent.com/a-/AOh14Gh6NMkbCLmxYaYTlBGeO6OMn-ehGPnZwNoz3tq7=s64",
      "userId": "08556306977111819398"
     },
     "user_tz": 240
    },
    "id": "2OtvqyxgHURh",
    "outputId": "062d5743-a00c-4a1d-dfe1-6b6ff929dce4"
   },
   "outputs": [
    {
     "name": "stdout",
     "output_type": "stream",
     "text": [
      "Test Accuracy: 0.35\n"
     ]
    }
   ],
   "source": [
    "preds = model(X_test)\n",
    "\n",
    "i = 0\n",
    "corr = 0\n",
    "for pred in preds:\n",
    "    if (pred.data[0]-0.2) <= Y_test[i-1][0] and Y_test[i-1][0]<=(pred.data[0]+0.2):\n",
    "        corr += 1\n",
    "        i += 1\n",
    "\n",
    "print('Test Accuracy:', corr/len(Y_test))\n",
    "# Hint:\n",
    "# You may want to change \n",
    "    # 1. learning rate;\n",
    "    # 2. training epochs;\n",
    "    # 3. the number of layers in the network."
   ]
  },
  {
   "cell_type": "markdown",
   "metadata": {
    "id": "2_xXkvcI9bs8"
   },
   "source": [
    "**I have increased the number of training epochs from 30 to 50 and decreased the learning rate from 4e-4 to 2e-4. I have also added an additional layer. The test accuracy was drastically increased after these changes. I believe the additional layer in the model has allowed a more sophisticated function of prediction while the increased epoch number and the decreased learning rate have allowed a finer tuning of the model. These changes combined have enabled more accurate predictions.**"
   ]
  },
  {
   "cell_type": "markdown",
   "metadata": {
    "id": "BSTbPdLmiGFr"
   },
   "source": [
    "\n",
    "**Problem 3: EEGNet** In this question, we will use EEGNet which is A compact convolutional network for EEG-based brain-computer interfaces. Your task is to process the given eeg data so that you can train and test the network on the dataset. For more detail about the EEGNet, please see the GitHub repo here:\n",
    "https://github.com/aliasvishnu/EEGNet.\n",
    "\n",
    "The EEG data given in this question are generated. Feel free to print or plot the data if you want to know what the dataset looks like. \n",
    "\n"
   ]
  },
  {
   "cell_type": "markdown",
   "metadata": {
    "id": "CUU5Rx0mHZAa"
   },
   "source": [
    "First, we need to define the EEGNet"
   ]
  },
  {
   "cell_type": "code",
   "execution_count": 31,
   "metadata": {
    "colab": {
     "base_uri": "https://localhost:8080/",
     "height": 34
    },
    "executionInfo": {
     "elapsed": 368,
     "status": "ok",
     "timestamp": 1603682871021,
     "user": {
      "displayName": "VΓΛ:D Chiang",
      "photoUrl": "https://lh3.googleusercontent.com/a-/AOh14Gh6NMkbCLmxYaYTlBGeO6OMn-ehGPnZwNoz3tq7=s64",
      "userId": "08556306977111819398"
     },
     "user_tz": 240
    },
    "id": "wOuwUDULsXxH",
    "outputId": "124b57d8-6c91-4048-9c2f-c93390df9b98"
   },
   "outputs": [
    {
     "name": "stdout",
     "output_type": "stream",
     "text": [
      "tensor([[0.8164]], grad_fn=<SigmoidBackward>)\n"
     ]
    }
   ],
   "source": [
    "class EEGNet(nn.Module):\n",
    "    def __init__(self):\n",
    "        super(EEGNet, self).__init__()\n",
    "        self.T = 120\n",
    "        \n",
    "        # Layer 1\n",
    "        self.conv1 = nn.Conv2d(1, 16, (1, 64), padding = 0)\n",
    "        self.batchnorm1 = nn.BatchNorm2d(16, False)\n",
    "        \n",
    "        # Layer 2\n",
    "        self.padding1 = nn.ZeroPad2d((16, 17, 0, 1))\n",
    "        self.conv2 = nn.Conv2d(1, 4, (2, 32))\n",
    "        self.batchnorm2 = nn.BatchNorm2d(4, False)\n",
    "        self.pooling2 = nn.MaxPool2d(2, 4)\n",
    "        \n",
    "        # Layer 3\n",
    "        self.padding2 = nn.ZeroPad2d((2, 1, 4, 3))\n",
    "        self.conv3 = nn.Conv2d(4, 4, (8, 4))\n",
    "        self.batchnorm3 = nn.BatchNorm2d(4, False)\n",
    "        self.pooling3 = nn.MaxPool2d((2, 4))\n",
    "\n",
    "        # FC Layer\n",
    "        # NOTE: This dimension will depend on the number of timestamps per sample in your data.\n",
    "        # I have 120 timepoints. \n",
    "        self.fc1 = nn.Linear(4*2*7, 1)\n",
    "        \n",
    "\n",
    "    def forward(self, x):\n",
    "        # Layer 1\n",
    "        x = F.elu(self.conv1(x))\n",
    "        x = self.batchnorm1(x)\n",
    "        x = F.dropout(x, 0.25)\n",
    "        x = x.permute(0, 3, 1, 2)\n",
    "        \n",
    "        # Layer 2\n",
    "        x = self.padding1(x)\n",
    "        x = F.elu(self.conv2(x))\n",
    "        x = self.batchnorm2(x)\n",
    "        x = F.dropout(x, 0.25)\n",
    "        x = self.pooling2(x)\n",
    "        \n",
    "        # Layer 3\n",
    "        x = self.padding2(x)\n",
    "        x = F.elu(self.conv3(x))\n",
    "        x = self.batchnorm3(x)\n",
    "        x = F.dropout(x, 0.25)\n",
    "        x = self.pooling3(x)\n",
    "        \n",
    "        # FC Layer\n",
    "        x = x.view(-1, 4*2*7)\n",
    "        x = torch.sigmoid(self.fc1(x))\n",
    "        return x\n",
    "\n",
    "\n",
    "net = EEGNet()\n",
    "print(net.forward(Variable(torch.Tensor(np.random.rand(1, 1, 120, 64)))))\n",
    "criterion = nn.BCELoss()\n",
    "optimizer = optim.Adam(net.parameters())"
   ]
  },
  {
   "cell_type": "markdown",
   "metadata": {
    "id": "CIMUqBPQHtLS"
   },
   "source": [
    "Define the evaluation function"
   ]
  },
  {
   "cell_type": "code",
   "execution_count": 32,
   "metadata": {
    "executionInfo": {
     "elapsed": 342,
     "status": "ok",
     "timestamp": 1603682886490,
     "user": {
      "displayName": "VΓΛ:D Chiang",
      "photoUrl": "https://lh3.googleusercontent.com/a-/AOh14Gh6NMkbCLmxYaYTlBGeO6OMn-ehGPnZwNoz3tq7=s64",
      "userId": "08556306977111819398"
     },
     "user_tz": 240
    },
    "id": "f5LisRGVsXoM"
   },
   "outputs": [],
   "source": [
    "def evaluate(model, X, Y, params = [\"acc\"]):\n",
    "    results = []\n",
    "    batch_size = 100\n",
    "    \n",
    "    predicted = []\n",
    "    \n",
    "    for i in range(int(len(X)/batch_size)):\n",
    "        s = i*batch_size\n",
    "        e = i*batch_size+batch_size\n",
    "        \n",
    "        inputs = Variable(torch.from_numpy(X[s:e]))\n",
    "        pred = model(inputs)\n",
    "        \n",
    "        predicted.append(pred.data.cpu().numpy())\n",
    "        \n",
    "        \n",
    "    inputs = Variable(torch.from_numpy(X))\n",
    "    predicted = model(inputs)\n",
    "    \n",
    "    predicted = predicted.data.cpu().numpy()\n",
    "    \n",
    "    for param in params:\n",
    "        if param == 'acc':\n",
    "            results.append(accuracy_score(Y, np.round(predicted)))\n",
    "        if param == \"auc\":\n",
    "            results.append(roc_auc_score(Y, predicted))\n",
    "        if param == \"recall\":\n",
    "            results.append(recall_score(Y, np.round(predicted)))\n",
    "        if param == \"precision\":\n",
    "            results.append(precision_score(Y, np.round(predicted)))\n",
    "        if param == \"fmeasure\":\n",
    "            precision = precision_score(Y, np.round(predicted))\n",
    "            recall = recall_score(Y, np.round(predicted))\n",
    "            results.append(2*precision*recall/ (precision+recall))\n",
    "    return results"
   ]
  },
  {
   "cell_type": "code",
   "execution_count": 33,
   "metadata": {
    "colab": {
     "base_uri": "https://localhost:8080/",
     "height": 34
    },
    "executionInfo": {
     "elapsed": 21622,
     "status": "ok",
     "timestamp": 1603682916491,
     "user": {
      "displayName": "VΓΛ:D Chiang",
      "photoUrl": "https://lh3.googleusercontent.com/a-/AOh14Gh6NMkbCLmxYaYTlBGeO6OMn-ehGPnZwNoz3tq7=s64",
      "userId": "08556306977111819398"
     },
     "user_tz": 240
    },
    "id": "eliGBb404rAX",
    "outputId": "05942a4d-43a0-4297-8efb-150161c8e2d8"
   },
   "outputs": [
    {
     "name": "stdout",
     "output_type": "stream",
     "text": [
      "Mounted at /drive\n"
     ]
    }
   ],
   "source": [
    "# MOUNTING GOOGLE DRIVE WHERE DATA IS STORED\n",
    "from google.colab import drive\n",
    "drive.mount('/drive', force_remount=True)"
   ]
  },
  {
   "cell_type": "code",
   "execution_count": 57,
   "metadata": {
    "colab": {
     "base_uri": "https://localhost:8080/",
     "height": 34
    },
    "executionInfo": {
     "elapsed": 332,
     "status": "ok",
     "timestamp": 1603686763837,
     "user": {
      "displayName": "VΓΛ:D Chiang",
      "photoUrl": "https://lh3.googleusercontent.com/a-/AOh14Gh6NMkbCLmxYaYTlBGeO6OMn-ehGPnZwNoz3tq7=s64",
      "userId": "08556306977111819398"
     },
     "user_tz": 240
    },
    "id": "ixfh8Xpz42tU",
    "outputId": "19979fc1-67da-4700-80ee-8be7985d9d8c"
   },
   "outputs": [
    {
     "name": "stdout",
     "output_type": "stream",
     "text": [
      "(300, 120, 64) (1, 300)\n"
     ]
    }
   ],
   "source": [
    "# Import data and save as np.array\n",
    "Data = sio.loadmat('/drive/My Drive//X.mat')\n",
    "Label = sio.loadmat('/drive/My Drive/Y.mat')\n",
    "Dataset = Data['Data']\n",
    "Labels = Label['Labels']\n",
    "print(Dataset.shape, Labels.shape)"
   ]
  },
  {
   "cell_type": "code",
   "execution_count": 59,
   "metadata": {
    "colab": {
     "base_uri": "https://localhost:8080/",
     "height": 51
    },
    "executionInfo": {
     "elapsed": 850,
     "status": "ok",
     "timestamp": 1603686796049,
     "user": {
      "displayName": "VΓΛ:D Chiang",
      "photoUrl": "https://lh3.googleusercontent.com/a-/AOh14Gh6NMkbCLmxYaYTlBGeO6OMn-ehGPnZwNoz3tq7=s64",
      "userId": "08556306977111819398"
     },
     "user_tz": 240
    },
    "id": "4ec1GCzwJfpF",
    "outputId": "184273a0-4dcf-4750-c25c-bc67341408c5"
   },
   "outputs": [
    {
     "name": "stdout",
     "output_type": "stream",
     "text": [
      "[0. 1.] [158 142]\n",
      "(300,)\n"
     ]
    }
   ],
   "source": [
    "unique_elements, counts_elements = np.unique(Labels.flatten(), return_counts=True)\n",
    "print(unique_elements, counts_elements)"
   ]
  },
  {
   "cell_type": "markdown",
   "metadata": {
    "id": "H9-_OKF_H4L3"
   },
   "source": [
    "**3(a)** Now, reshape the data so you can train it using EEGNet. To train the network, you also need to modify the network parameters to match the dimension of your training data. Please see the image [here](https://github.com/aliasvishnu/EEGNet/blob/master/EEGNet.png) for more information. "
   ]
  },
  {
   "cell_type": "code",
   "execution_count": 62,
   "metadata": {
    "executionInfo": {
     "elapsed": 716,
     "status": "ok",
     "timestamp": 1603686823390,
     "user": {
      "displayName": "VΓΛ:D Chiang",
      "photoUrl": "https://lh3.googleusercontent.com/a-/AOh14Gh6NMkbCLmxYaYTlBGeO6OMn-ehGPnZwNoz3tq7=s64",
      "userId": "08556306977111819398"
     },
     "user_tz": 240
    },
    "id": "W2VckhJizNsg"
   },
   "outputs": [],
   "source": [
    " # Your code\n",
    "Dataset = np.reshape(Dataset, (300,1,120,64))\n",
    "Labels = np.reshape(Labels, (300))"
   ]
  },
  {
   "cell_type": "markdown",
   "metadata": {
    "id": "oJvn-h_GMYiF"
   },
   "source": [
    "**3(b)** Print the shape of your data and your label"
   ]
  },
  {
   "cell_type": "code",
   "execution_count": 63,
   "metadata": {
    "colab": {
     "base_uri": "https://localhost:8080/",
     "height": 34
    },
    "executionInfo": {
     "elapsed": 981,
     "status": "ok",
     "timestamp": 1603686826405,
     "user": {
      "displayName": "VΓΛ:D Chiang",
      "photoUrl": "https://lh3.googleusercontent.com/a-/AOh14Gh6NMkbCLmxYaYTlBGeO6OMn-ehGPnZwNoz3tq7=s64",
      "userId": "08556306977111819398"
     },
     "user_tz": 240
    },
    "id": "1fPSn2nvHBpa",
    "outputId": "61181ac3-2d06-4ba9-d977-d0d409b7d87b"
   },
   "outputs": [
    {
     "name": "stdout",
     "output_type": "stream",
     "text": [
      "(300, 1, 120, 64) (300,)\n"
     ]
    }
   ],
   "source": [
    "# Your code:  \n",
    "print(Dataset.shape, Labels.shape)"
   ]
  },
  {
   "cell_type": "markdown",
   "metadata": {
    "id": "a0LaqrLuINkv"
   },
   "source": [
    "**3(c)** Now split the training, evaluation, and testing data. Please make sure you have about 80% for training, about 10% for evaluation, and about 10% for testing."
   ]
  },
  {
   "cell_type": "code",
   "execution_count": 64,
   "metadata": {
    "executionInfo": {
     "elapsed": 311,
     "status": "ok",
     "timestamp": 1603686826987,
     "user": {
      "displayName": "VΓΛ:D Chiang",
      "photoUrl": "https://lh3.googleusercontent.com/a-/AOh14Gh6NMkbCLmxYaYTlBGeO6OMn-ehGPnZwNoz3tq7=s64",
      "userId": "08556306977111819398"
     },
     "user_tz": 240
    },
    "id": "6_sj1h6usXcc"
   },
   "outputs": [],
   "source": [
    "# Your Code: \n",
    "# Please name the parameters as names given below in the print function.\n",
    "X_train = Dataset[0:int(len(Dataset) * 0.8)]\n",
    "X_test = Dataset[int(len(Dataset) * 0.8):int(len(Dataset) * 0.9)]\n",
    "X_val = Dataset[int(len(Dataset) * 0.9):int(len(Dataset) * 1)]\n",
    "y_train = Labels[0:int(len(Labels) * 0.8)]\n",
    "y_test = Labels[int(len(Labels) * 0.8):int(len(Labels) * 0.9)]\n",
    "y_val = Labels[int(len(Labels) * 0.9):int(len(Labels) * 1)]"
   ]
  },
  {
   "cell_type": "markdown",
   "metadata": {
    "id": "YBokyMdDIy2P"
   },
   "source": [
    "Train and test on your dataset"
   ]
  },
  {
   "cell_type": "code",
   "execution_count": 65,
   "metadata": {
    "colab": {
     "base_uri": "https://localhost:8080/",
     "height": 1000
    },
    "executionInfo": {
     "elapsed": 4101,
     "status": "ok",
     "timestamp": 1603686832426,
     "user": {
      "displayName": "VΓΛ:D Chiang",
      "photoUrl": "https://lh3.googleusercontent.com/a-/AOh14Gh6NMkbCLmxYaYTlBGeO6OMn-ehGPnZwNoz3tq7=s64",
      "userId": "08556306977111819398"
     },
     "user_tz": 240
    },
    "id": "ZHFpTZAxtXBl",
    "outputId": "b8ffe9a4-b545-4e17-c86f-7f15a8ef381e"
   },
   "outputs": [
    {
     "name": "stdout",
     "output_type": "stream",
     "text": [
      "\n",
      "Epoch  0\n",
      "['acc', 'auc', 'fmeasure']\n",
      "Training Loss  tensor(2.9745)\n",
      "Train -  [0.6916666666666667, 0.7784106696304529, 0.6942148760330579]\n",
      "Validation -  [0.4, 0.3526785714285714, 0.35714285714285715]\n",
      "Test -  [0.4, 0.42500000000000004, 0.35714285714285715]\n",
      "\n",
      "Epoch  1\n",
      "['acc', 'auc', 'fmeasure']\n",
      "Training Loss  tensor(3.1814)\n",
      "Train -  [0.6833333333333333, 0.756599055293137, 0.7054263565891473]\n",
      "Validation -  [0.5333333333333333, 0.4196428571428571, 0.5]\n",
      "Test -  [0.4, 0.55, 0.47058823529411764]\n",
      "\n",
      "Epoch  2\n",
      "['acc', 'auc', 'fmeasure']\n",
      "Training Loss  tensor(3.2906)\n",
      "Train -  [0.6875, 0.7567379827729925, 0.7126436781609196]\n",
      "Validation -  [0.5333333333333333, 0.4508928571428572, 0.588235294117647]\n",
      "Test -  [0.4666666666666667, 0.41, 0.42857142857142855]\n",
      "\n",
      "Epoch  3\n",
      "['acc', 'auc', 'fmeasure']\n",
      "Training Loss  tensor(3.1583)\n",
      "Train -  [0.6958333333333333, 0.7737565990552933, 0.7044534412955465]\n",
      "Validation -  [0.5, 0.5357142857142857, 0.4827586206896552]\n",
      "Test -  [0.4, 0.51, 0.4]\n",
      "\n",
      "Epoch  4\n",
      "['acc', 'auc', 'fmeasure']\n",
      "Training Loss  tensor(3.2515)\n",
      "Train -  [0.7291666666666666, 0.8114059460961378, 0.7280334728033473]\n",
      "Validation -  [0.36666666666666664, 0.3839285714285714, 0.3870967741935484]\n",
      "Test -  [0.4666666666666667, 0.63, 0.5000000000000001]\n",
      "\n",
      "Epoch  5\n",
      "['acc', 'auc', 'fmeasure']\n",
      "Training Loss  tensor(3.1092)\n",
      "Train -  [0.6958333333333333, 0.7787579883300918, 0.7137254901960784]\n",
      "Validation -  [0.5, 0.5892857142857143, 0.5454545454545454]\n",
      "Test -  [0.6, 0.645, 0.5714285714285714]\n",
      "\n",
      "Epoch  6\n",
      "['acc', 'auc', 'fmeasure']\n",
      "Training Loss  tensor(2.8082)\n",
      "Train -  [0.7083333333333334, 0.789872186718533, 0.7265625]\n",
      "Validation -  [0.43333333333333335, 0.4776785714285714, 0.4137931034482759]\n",
      "Test -  [0.4, 0.585, 0.4375]\n",
      "\n",
      "Epoch  7\n",
      "['acc', 'auc', 'fmeasure']\n",
      "Training Loss  tensor(3.0244)\n",
      "Train -  [0.7125, 0.8043206446235064, 0.7183673469387756]\n",
      "Validation -  [0.5333333333333333, 0.5491071428571429, 0.5333333333333333]\n",
      "Test -  [0.5, 0.605, 0.48275862068965514]\n",
      "\n",
      "Epoch  8\n",
      "['acc', 'auc', 'fmeasure']\n",
      "Training Loss  tensor(2.7094)\n",
      "Train -  [0.7625, 0.8413448180050014, 0.7594936708860759]\n",
      "Validation -  [0.5, 0.4375, 0.5161290322580646]\n",
      "Test -  [0.6, 0.505, 0.5]\n",
      "\n",
      "Epoch  9\n",
      "['acc', 'auc', 'fmeasure']\n",
      "Training Loss  tensor(2.7454)\n",
      "Train -  [0.7333333333333333, 0.8115448735759934, 0.7398373983739838]\n",
      "Validation -  [0.5, 0.4642857142857143, 0.5161290322580646]\n",
      "Test -  [0.6333333333333333, 0.595, 0.6206896551724138]\n"
     ]
    }
   ],
   "source": [
    "batch_size = 32\n",
    "\n",
    "for epoch in range(10):  # loop over the dataset multiple times\n",
    "    print(\"\\nEpoch \", epoch)\n",
    "    \n",
    "    running_loss = 0.0\n",
    "    for i in range(int(len(X_train)/batch_size-1)):\n",
    "        s = i*batch_size\n",
    "        e = i*batch_size+batch_size\n",
    "        \n",
    "        inputs = torch.from_numpy(X_train[s:e])\n",
    "        labels = torch.FloatTensor(np.array([y_train[s:e]]).T*1.0)\n",
    "        \n",
    "        # wrap them in Variable\n",
    "        inputs, labels = Variable(inputs), Variable(labels)\n",
    "\n",
    "        # zero the parameter gradients\n",
    "        optimizer.zero_grad()\n",
    "\n",
    "        # forward + backward + optimize\n",
    "        outputs = net(inputs)   \n",
    "        loss = criterion(outputs, labels)\n",
    "        loss.backward()\n",
    "        \n",
    "        \n",
    "        optimizer.step()\n",
    "        \n",
    "        running_loss += loss.data\n",
    "    \n",
    "    # Validation accuracy\n",
    "    params = [\"acc\", \"auc\", \"fmeasure\"]\n",
    "    print(params)\n",
    "    print(\"Training Loss \", running_loss)\n",
    "    print(\"Train - \", evaluate(net, X_train, y_train, params))\n",
    "    print(\"Validation - \", evaluate(net, X_val, y_val, params))\n",
    "    print(\"Test - \", evaluate(net, X_test, y_test, params))"
   ]
  },
  {
   "cell_type": "markdown",
   "metadata": {
    "id": "lkJ-O-yiI8KN"
   },
   "source": [
    "**3(d)** Now, splite the data by 50% training, 10% validation, 40% testing. Retrain your model and compare to what you got from 3(c). Do you have better or worse result? Why? "
   ]
  },
  {
   "cell_type": "code",
   "execution_count": 67,
   "metadata": {
    "colab": {
     "base_uri": "https://localhost:8080/",
     "height": 1000
    },
    "executionInfo": {
     "elapsed": 3015,
     "status": "ok",
     "timestamp": 1603687297918,
     "user": {
      "displayName": "VΓΛ:D Chiang",
      "photoUrl": "https://lh3.googleusercontent.com/a-/AOh14Gh6NMkbCLmxYaYTlBGeO6OMn-ehGPnZwNoz3tq7=s64",
      "userId": "08556306977111819398"
     },
     "user_tz": 240
    },
    "id": "ZtSpZfeVtWvu",
    "outputId": "c70a20f8-a30b-4f89-eb5e-1abd3ceb748c"
   },
   "outputs": [
    {
     "name": "stdout",
     "output_type": "stream",
     "text": [
      "\n",
      "Epoch  0\n",
      "['acc', 'auc', 'fmeasure']\n",
      "Training Loss  tensor(1.4558)\n",
      "Train -  [0.82, 0.9125, 0.8301886792452831]\n",
      "Validation -  [0.5, 0.4642857142857143, 0.4827586206896552]\n",
      "Test -  [0.6166666666666667, 0.6750578703703705, 0.6166666666666666]\n",
      "\n",
      "Epoch  1\n",
      "['acc', 'auc', 'fmeasure']\n",
      "Training Loss  tensor(1.4425)\n",
      "Train -  [0.7933333333333333, 0.8773214285714286, 0.8098159509202455]\n",
      "Validation -  [0.4666666666666667, 0.4375, 0.4666666666666667]\n",
      "Test -  [0.6583333333333333, 0.6692708333333334, 0.6238532110091743]\n",
      "\n",
      "Epoch  2\n",
      "['acc', 'auc', 'fmeasure']\n",
      "Training Loss  tensor(1.3214)\n",
      "Train -  [0.8266666666666667, 0.8973214285714285, 0.8395061728395061]\n",
      "Validation -  [0.36666666666666664, 0.34375, 0.3448275862068965]\n",
      "Test -  [0.6166666666666667, 0.6414930555555556, 0.5740740740740741]\n",
      "\n",
      "Epoch  3\n",
      "['acc', 'auc', 'fmeasure']\n",
      "Training Loss  tensor(1.2301)\n",
      "Train -  [0.8266666666666667, 0.8887499999999999, 0.8452380952380951]\n",
      "Validation -  [0.6333333333333333, 0.6205357142857143, 0.6206896551724138]\n",
      "Test -  [0.6416666666666667, 0.7022569444444444, 0.5981308411214954]\n",
      "\n",
      "Epoch  4\n",
      "['acc', 'auc', 'fmeasure']\n",
      "Training Loss  tensor(1.2862)\n",
      "Train -  [0.8266666666666667, 0.8998214285714287, 0.8395061728395061]\n",
      "Validation -  [0.5333333333333333, 0.5, 0.4615384615384615]\n",
      "Test -  [0.65, 0.6915509259259259, 0.6181818181818182]\n",
      "\n",
      "Epoch  5\n",
      "['acc', 'auc', 'fmeasure']\n",
      "Training Loss  tensor(1.3505)\n",
      "Train -  [0.8466666666666667, 0.9151785714285715, 0.8535031847133757]\n",
      "Validation -  [0.4666666666666667, 0.45535714285714285, 0.4666666666666667]\n",
      "Test -  [0.625, 0.6530671296296295, 0.5871559633027523]\n",
      "\n",
      "Epoch  6\n",
      "['acc', 'auc', 'fmeasure']\n",
      "Training Loss  tensor(1.2856)\n",
      "Train -  [0.84, 0.9189285714285715, 0.85]\n",
      "Validation -  [0.5333333333333333, 0.5892857142857143, 0.5333333333333333]\n",
      "Test -  [0.7333333333333333, 0.7517361111111112, 0.6862745098039215]\n",
      "\n",
      "Epoch  7\n",
      "['acc', 'auc', 'fmeasure']\n",
      "Training Loss  tensor(1.0567)\n",
      "Train -  [0.8266666666666667, 0.9048214285714286, 0.8333333333333334]\n",
      "Validation -  [0.4666666666666667, 0.4107142857142857, 0.4666666666666667]\n",
      "Test -  [0.575, 0.630787037037037, 0.5405405405405405]\n",
      "\n",
      "Epoch  8\n",
      "['acc', 'auc', 'fmeasure']\n",
      "Training Loss  tensor(1.1463)\n",
      "Train -  [0.8266666666666667, 0.9171428571428571, 0.8414634146341463]\n",
      "Validation -  [0.43333333333333335, 0.3526785714285714, 0.2608695652173913]\n",
      "Test -  [0.6333333333333333, 0.6605902777777778, 0.6071428571428571]\n",
      "\n",
      "Epoch  9\n",
      "['acc', 'auc', 'fmeasure']\n",
      "Training Loss  tensor(1.0804)\n",
      "Train -  [0.8133333333333334, 0.9083928571428571, 0.8313253012048193]\n",
      "Validation -  [0.5666666666666667, 0.5089285714285714, 0.5806451612903226]\n",
      "Test -  [0.5666666666666667, 0.6270254629629629, 0.5517241379310345]\n",
      "(150, 1, 120, 64) (30, 1, 120, 64) (120, 1, 120, 64)\n",
      "(150,) (30,) (120,)\n"
     ]
    }
   ],
   "source": [
    "# Your Code:\n",
    "# Please name the parameters as names given below in the print function.\n",
    "X_train = Dataset[0:int(len(Dataset) * 0.5)]\n",
    "X_test = Dataset[int(len(Dataset) * 0.5):int(len(Dataset) * 0.9)]\n",
    "X_val = Dataset[int(len(Dataset) * 0.9):int(len(Dataset) * 1)]\n",
    "y_train = Labels[0:int(len(Labels) * 0.5)]\n",
    "y_test = Labels[int(len(Labels) * 0.5):int(len(Labels) * 0.9)]\n",
    "y_val = Labels[int(len(Labels) * 0.9):int(len(Labels) * 1)]\n",
    "\n",
    "batch_size = 32\n",
    "\n",
    "for epoch in range(10):  # loop over the dataset multiple times\n",
    "    print(\"\\nEpoch \", epoch)\n",
    "    \n",
    "    running_loss = 0.0\n",
    "    for i in range(int(len(X_train)/batch_size-1)):\n",
    "        s = i*batch_size\n",
    "        e = i*batch_size+batch_size\n",
    "        \n",
    "        inputs = torch.from_numpy(X_train[s:e])\n",
    "        labels = torch.FloatTensor(np.array([y_train[s:e]]).T*1.0)\n",
    "        \n",
    "        # wrap them in Variable\n",
    "        inputs, labels = Variable(inputs), Variable(labels)\n",
    "\n",
    "        # zero the parameter gradients\n",
    "        optimizer.zero_grad()\n",
    "\n",
    "        # forward + backward + optimize\n",
    "        outputs = net(inputs)   \n",
    "        loss = criterion(outputs, labels)\n",
    "        loss.backward()\n",
    "        \n",
    "        \n",
    "        optimizer.step()\n",
    "        \n",
    "        running_loss += loss.data\n",
    "    \n",
    "    # Validation accuracy\n",
    "    params = [\"acc\", \"auc\", \"fmeasure\"]\n",
    "    print(params)\n",
    "    print(\"Training Loss \", running_loss)\n",
    "    print(\"Train - \", evaluate(net, X_train, y_train, params))\n",
    "    print(\"Validation - \", evaluate(net, X_val, y_val, params))\n",
    "    print(\"Test - \", evaluate(net, X_test, y_test, params))\n",
    "\n",
    "print(X_train.shape, X_val.shape,X_test.shape)\n",
    "print(y_train.shape, y_val.shape, y_test.shape)"
   ]
  },
  {
   "cell_type": "markdown",
   "metadata": {
    "id": "b4jOGus3S7un"
   },
   "source": [
    "**Compared to the previous model (at Epoch 9), the modified model with less training set and more testing set has demonstrated an increased accuracy in training but a decreased accuracy in testing, which makes the model a worse model. I believe the reason behind this change is that with a smaller training set and a small validation set, it is hard for the model to prevent overfitting. The additional overfitting has caused the model to be less able to accurately predict the data in the testing set.**"
   ]
  }
 ],
 "metadata": {
  "accelerator": "GPU",
  "colab": {
   "collapsed_sections": [],
   "name": "BMEN4000_HW2_Fall_2020_XJ.ipynb",
   "provenance": []
  },
  "kernelspec": {
   "display_name": "Python 3",
   "language": "python",
   "name": "python3"
  },
  "language_info": {
   "codemirror_mode": {
    "name": "ipython",
    "version": 3
   },
   "file_extension": ".py",
   "mimetype": "text/x-python",
   "name": "python",
   "nbconvert_exporter": "python",
   "pygments_lexer": "ipython3",
   "version": "3.7.9"
  }
 },
 "nbformat": 4,
 "nbformat_minor": 1
}
